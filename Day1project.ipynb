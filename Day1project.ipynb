{
 "cells": [
  {
   "cell_type": "markdown",
   "id": "c6c059dc",
   "metadata": {},
   "source": [
    "Sample JSON file (events.json)\n",
    "-Friendly Script (summarize_json.py)\n",
    "\n",
    "[\n",
    "  { \"user_id\": 1, \"country\": \"US\", \"imps\": 10, \"clicks\": 2 },\n",
    "  { \"user_id\": 2, \"country\": \"US\", \"imps\": 5, \"clicks\": 1 },\n",
    "  { \"user_id\": 3, \"country\": \"UK\", \"imps\": 8, \"clicks\": 3 },\n",
    "  { \"user_id\": 4, \"country\": \"IN\", \"imps\": 12, \"clicks\": 4 },\n",
    "  { \"user_id\": 5, \"country\": \"IN\", \"imps\": 7, \"clicks\": 2 }\n",
    "]\n",
    "\n",
    "\n",
    "\n",
    "3️⃣ Expected Output\n",
    "--- Summary by Country ---\n",
    "US => Users: 2, Imps: 15, Clicks: 3\n",
    "UK => Users: 1, Imps: 8, Clicks: 3\n",
    "IN => Users: 2, Imps: 19, Clicks: 6"
   ]
  },
  {
   "cell_type": "code",
   "execution_count": 18,
   "id": "88787a2c",
   "metadata": {},
   "outputs": [
    {
     "name": "stdout",
     "output_type": "stream",
     "text": [
      "--- Summary by Country ---\n",
      "US => Users: 2, Imps: 15, Clicks: 3\n",
      "UK => Users: 1, Imps: 8, Clicks: 3\n",
      "IN => Users: 2, Imps: 19, Clicks: 6\n"
     ]
    }
   ],
   "source": [
    "import json\n",
    "\n",
    "# Step 1: Open and read the JSON file\n",
    "with open(\"events.json\", \"r\") as f:\n",
    "    data = json.load(f)   # data is now a Python list of dictionaries\n",
    "\n",
    "# Step 2: Create a dictionary to hold country summaries\n",
    "summary = {}\n",
    "\n",
    "# Step 3: Loop through each record in the data\n",
    "for event in data:\n",
    "    country = event[\"country\"]\n",
    "    imps = event[\"imps\"]\n",
    "    clicks = event[\"clicks\"]\n",
    "\n",
    "    # If country not seen before, initialize\n",
    "    if country not in summary:\n",
    "        summary[country] = {\"users\": 0, \"imps\": 0, \"clicks\": 0}\n",
    "\n",
    "    # Update counts\n",
    "    summary[country][\"users\"] += 1\n",
    "    summary[country][\"imps\"] += imps\n",
    "    summary[country][\"clicks\"] += clicks\n",
    "\n",
    "# Step 4: Print the summary\n",
    "print(\"--- Summary by Country ---\")\n",
    "for country, stats in summary.items():\n",
    "    print(f\"{country} => Users: {stats['users']}, Imps: {stats['imps']}, Clicks: {stats['clicks']}\")\n"
   ]
  },
  {
   "cell_type": "code",
   "execution_count": null,
   "id": "2e973b3c",
   "metadata": {},
   "outputs": [],
   "source": []
  }
 ],
 "metadata": {
  "kernelspec": {
   "display_name": "Orange",
   "language": "python",
   "name": "python3"
  },
  "language_info": {
   "codemirror_mode": {
    "name": "ipython",
    "version": 3
   },
   "file_extension": ".py",
   "mimetype": "text/x-python",
   "name": "python",
   "nbconvert_exporter": "python",
   "pygments_lexer": "ipython3",
   "version": "3.11.8"
  }
 },
 "nbformat": 4,
 "nbformat_minor": 5
}
